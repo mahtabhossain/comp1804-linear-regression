{
 "cells": [
  {
   "cell_type": "markdown",
   "metadata": {},
   "source": [
    "<h1>Logistic Regression</h1>\n",
    "In this notebook, we will apply logistic regression (despite having regression in its name, it is a classification algorithm) on the same boston house dataset - we will convert it into a <strong>binary classification</strong> task.\n",
    "\n",
    "1. We will look at hyper-parameter tuning during modelling.\n",
    "2. The evaluation metrics (also loss functions) related to classification task, and their importance in gauging the model's performance."
   ]
  },
  {
   "cell_type": "code",
   "execution_count": 1,
   "metadata": {},
   "outputs": [],
   "source": [
    "import numpy as np\n",
    "import pandas as pd\n",
    "import matplotlib.pyplot as plt\n",
    "from sklearn.datasets import load_boston"
   ]
  },
  {
   "cell_type": "code",
   "execution_count": 2,
   "metadata": {},
   "outputs": [
    {
     "data": {
      "text/html": [
       "<div>\n",
       "<style scoped>\n",
       "    .dataframe tbody tr th:only-of-type {\n",
       "        vertical-align: middle;\n",
       "    }\n",
       "\n",
       "    .dataframe tbody tr th {\n",
       "        vertical-align: top;\n",
       "    }\n",
       "\n",
       "    .dataframe thead th {\n",
       "        text-align: right;\n",
       "    }\n",
       "</style>\n",
       "<table border=\"1\" class=\"dataframe\">\n",
       "  <thead>\n",
       "    <tr style=\"text-align: right;\">\n",
       "      <th></th>\n",
       "      <th>CRIM</th>\n",
       "      <th>ZN</th>\n",
       "      <th>INDUS</th>\n",
       "      <th>CHAS</th>\n",
       "      <th>NOX</th>\n",
       "      <th>RM</th>\n",
       "      <th>AGE</th>\n",
       "      <th>DIS</th>\n",
       "      <th>RAD</th>\n",
       "      <th>TAX</th>\n",
       "      <th>PTRATIO</th>\n",
       "      <th>B</th>\n",
       "      <th>LSTAT</th>\n",
       "      <th>EXPENSIVE</th>\n",
       "    </tr>\n",
       "  </thead>\n",
       "  <tbody>\n",
       "    <tr>\n",
       "      <th>0</th>\n",
       "      <td>0.00632</td>\n",
       "      <td>18.0</td>\n",
       "      <td>2.31</td>\n",
       "      <td>0.0</td>\n",
       "      <td>0.538</td>\n",
       "      <td>6.575</td>\n",
       "      <td>65.2</td>\n",
       "      <td>4.0900</td>\n",
       "      <td>1.0</td>\n",
       "      <td>296.0</td>\n",
       "      <td>15.3</td>\n",
       "      <td>396.90</td>\n",
       "      <td>4.98</td>\n",
       "      <td>NO</td>\n",
       "    </tr>\n",
       "    <tr>\n",
       "      <th>1</th>\n",
       "      <td>0.02731</td>\n",
       "      <td>0.0</td>\n",
       "      <td>7.07</td>\n",
       "      <td>0.0</td>\n",
       "      <td>0.469</td>\n",
       "      <td>6.421</td>\n",
       "      <td>78.9</td>\n",
       "      <td>4.9671</td>\n",
       "      <td>2.0</td>\n",
       "      <td>242.0</td>\n",
       "      <td>17.8</td>\n",
       "      <td>396.90</td>\n",
       "      <td>9.14</td>\n",
       "      <td>NO</td>\n",
       "    </tr>\n",
       "    <tr>\n",
       "      <th>2</th>\n",
       "      <td>0.02729</td>\n",
       "      <td>0.0</td>\n",
       "      <td>7.07</td>\n",
       "      <td>0.0</td>\n",
       "      <td>0.469</td>\n",
       "      <td>7.185</td>\n",
       "      <td>61.1</td>\n",
       "      <td>4.9671</td>\n",
       "      <td>2.0</td>\n",
       "      <td>242.0</td>\n",
       "      <td>17.8</td>\n",
       "      <td>392.83</td>\n",
       "      <td>4.03</td>\n",
       "      <td>YES</td>\n",
       "    </tr>\n",
       "    <tr>\n",
       "      <th>3</th>\n",
       "      <td>0.03237</td>\n",
       "      <td>0.0</td>\n",
       "      <td>2.18</td>\n",
       "      <td>0.0</td>\n",
       "      <td>0.458</td>\n",
       "      <td>6.998</td>\n",
       "      <td>45.8</td>\n",
       "      <td>6.0622</td>\n",
       "      <td>3.0</td>\n",
       "      <td>222.0</td>\n",
       "      <td>18.7</td>\n",
       "      <td>394.63</td>\n",
       "      <td>2.94</td>\n",
       "      <td>YES</td>\n",
       "    </tr>\n",
       "    <tr>\n",
       "      <th>4</th>\n",
       "      <td>0.06905</td>\n",
       "      <td>0.0</td>\n",
       "      <td>2.18</td>\n",
       "      <td>0.0</td>\n",
       "      <td>0.458</td>\n",
       "      <td>7.147</td>\n",
       "      <td>54.2</td>\n",
       "      <td>6.0622</td>\n",
       "      <td>3.0</td>\n",
       "      <td>222.0</td>\n",
       "      <td>18.7</td>\n",
       "      <td>396.90</td>\n",
       "      <td>5.33</td>\n",
       "      <td>YES</td>\n",
       "    </tr>\n",
       "  </tbody>\n",
       "</table>\n",
       "</div>"
      ],
      "text/plain": [
       "      CRIM    ZN  INDUS  CHAS    NOX     RM   AGE     DIS  RAD    TAX  \\\n",
       "0  0.00632  18.0   2.31   0.0  0.538  6.575  65.2  4.0900  1.0  296.0   \n",
       "1  0.02731   0.0   7.07   0.0  0.469  6.421  78.9  4.9671  2.0  242.0   \n",
       "2  0.02729   0.0   7.07   0.0  0.469  7.185  61.1  4.9671  2.0  242.0   \n",
       "3  0.03237   0.0   2.18   0.0  0.458  6.998  45.8  6.0622  3.0  222.0   \n",
       "4  0.06905   0.0   2.18   0.0  0.458  7.147  54.2  6.0622  3.0  222.0   \n",
       "\n",
       "   PTRATIO       B  LSTAT EXPENSIVE  \n",
       "0     15.3  396.90   4.98        NO  \n",
       "1     17.8  396.90   9.14        NO  \n",
       "2     17.8  392.83   4.03       YES  \n",
       "3     18.7  394.63   2.94       YES  \n",
       "4     18.7  396.90   5.33       YES  "
      ]
     },
     "execution_count": 2,
     "metadata": {},
     "output_type": "execute_result"
    }
   ],
   "source": [
    "boston = load_boston()\n",
    "df = pd.DataFrame(data=boston.data, columns=boston.feature_names)\n",
    "# changing the target: to convert it into a hypothetical classification algorithm\n",
    "# say, if the PRICE > $300,000 then the house is considered expensive\n",
    "# our classification task is to check if a house will be expensive/not by just looking at the features.\n",
    "df['EXPENSIVE'] = boston['target']\n",
    "df['EXPENSIVE'] = df['EXPENSIVE'].apply(lambda x: 'YES' if x>30 else 'NO')\n",
    "df.head()"
   ]
  },
  {
   "cell_type": "markdown",
   "metadata": {},
   "source": [
    "<h1>Initial Data Analysis and Explanatory Data Analysis</h1>\n",
    "Similar analysis holds as the <a href='linear_regression_2.ipynb'>previous notebook</a>, and the findings apply here too. We are omitting that part in this notebook but remember this is quite an important step for any ML task. Additionally, in this task, the class balance/imbalance of the target variable should also be checked."
   ]
  },
  {
   "cell_type": "code",
   "execution_count": 3,
   "metadata": {},
   "outputs": [
    {
     "name": "stdout",
     "output_type": "stream",
     "text": [
      "Proportion of YES: 16.601%, Proportion of NO: 83.399%\n"
     ]
    },
    {
     "data": {
      "text/plain": [
       "count     506\n",
       "unique      2\n",
       "top        NO\n",
       "freq      422\n",
       "Name: EXPENSIVE, dtype: object"
      ]
     },
     "execution_count": 3,
     "metadata": {},
     "output_type": "execute_result"
    }
   ],
   "source": [
    "print('Proportion of YES: {:.3f}%, Proportion of NO: {:.3f}%'.format(df[df['EXPENSIVE']=='YES']['EXPENSIVE'].count()*100/df.shape[0], df[df['EXPENSIVE']=='NO']['EXPENSIVE'].count()*100/df.shape[0]))\n",
    "df['EXPENSIVE'].describe()"
   ]
  },
  {
   "cell_type": "markdown",
   "metadata": {},
   "source": [
    "<h1>Tasks</h1>\n",
    "\n",
    "In a typical ML task, you actually should reflect here because of the class imbalance - 'Not Expensive' houses dominate the dataset. In an ideal dataset, you should generally  have equal proportion of 'YES' and 'NO' for a binary classification task. If not, you should at least try to resolve it [generating more samples, undersamplling the major class, oversampling the minor class, synthetically create more samples etc.] - all these without comprising the 'validity' of the data, i.e., throwing away important information [undersampling], introducing 'false information' inside the dataset [the way you introduced more samples, etc.]. This is quite an important part, and after completing this notebook, you should try to come back to this step, and may try to resolve this issue and evaluate the model's performance again.\n",
    "\n",
    "For example, without any training, if an estimator just predicts the house as 'NOT EXPENSIVE' for any input, then the model's accuracy will be 83.399% for this dataset!!! Without resolving this imbalance, it is likely that the trained classifier may be inclined towards predicting the house to be 'NOT EXPENSIVE' too since this imbalance will impact its learning.\n",
    "\n",
    "We will proceed with our <strong>binary classification task</strong> anyway without resolving this."
   ]
  },
  {
   "cell_type": "markdown",
   "metadata": {},
   "source": [
    "<h1>Modelling (with hyper-parameter tuning)</h1>"
   ]
  },
  {
   "cell_type": "code",
   "execution_count": 4,
   "metadata": {},
   "outputs": [
    {
     "name": "stdout",
     "output_type": "stream",
     "text": [
      "Best estimator: LogisticRegression()\n",
      "Weights: [[ 0.14513444  0.39202927 -0.97854289  0.1618424   0.02479979  1.47605734\n",
      "   0.35606539 -0.67879687  0.95373518 -0.49196683 -0.73602807  0.1204218\n",
      "  -2.43396895]], Intercept: [-4.37431992]\n",
      "Best params: {'C': 1.0}\n",
      "Scorer: make_scorer(recall_score, average=binary)\n",
      "Available parameters for the estimator (fine-tuning):  dict_keys(['C', 'class_weight', 'dual', 'fit_intercept', 'intercept_scaling', 'l1_ratio', 'max_iter', 'multi_class', 'n_jobs', 'penalty', 'random_state', 'solver', 'tol', 'verbose', 'warm_start'])\n"
     ]
    }
   ],
   "source": [
    "from sklearn.model_selection import train_test_split\n",
    "from sklearn.linear_model import LogisticRegression\n",
    "from sklearn.preprocessing import StandardScaler\n",
    "from sklearn.metrics import confusion_matrix, accuracy_score, recall_score, precision_score, f1_score\n",
    "from sklearn.model_selection import GridSearchCV\n",
    "\n",
    "import warnings\n",
    "warnings.simplefilter(\"ignore\") # for GridSearchCV: some of its combination throws warning which is fine (they are not appropriate combination)\n",
    "\n",
    "# dropping the EXPENSIVE column [target variable]\n",
    "X = df.drop(['EXPENSIVE'], axis = 1)\n",
    "#X = df[['RM']] # use/uncomment this line if you want to use a single feature!!!\n",
    "y = df['EXPENSIVE'].apply(lambda x: 0 if x=='NO' else 1) # convering the categorical target into numeric: EXPENSIVE = 1, NOT EXPENSIVE = 0\n",
    "\n",
    "# standardisation of the features: extremely important so that the effect of 'magnitude difference' between features do not affect the optimisation of weights are not given more importance\n",
    "sc = StandardScaler()\n",
    "X = sc.fit_transform(X)\n",
    "\n",
    "# separating of training and testing set: 80-20 separation\n",
    "# random_state parameter is given to keep the same randomised splitting: important when you are creating the model\n",
    "# and want to keep a specific separation across multiple runs. Once modelling/evaluation is completed, you can actually\n",
    "# remove this parameter to generate random splitting in each run of this notebook\n",
    "# for classification, stratification on y [target] is important so that equal proportion of classes exist in both training/testing\n",
    "X_train, X_test, y_train, y_test = train_test_split(X, y, test_size=0.2, stratify=y, random_state=42)\n",
    "\n",
    "# hyper-parameter tuning using in-built GridSearchCV\n",
    "# pipeline is used to standardisation and also creating the normal instance of a LogisticRegression\n",
    "# This may take a while: good to set the max_iter parameter as well...\n",
    "param_grid=[{'C': np.logspace(-4,4,15)},\n",
    "           {'penalty': ['l1', 'l2']},\n",
    "           {'solver': ['lbfgs', 'liblinear', 'adam']},\n",
    "          {'max_iter': [10000]}]\n",
    "\n",
    "lr = LogisticRegression()\n",
    "\n",
    "# refer to sklearn documentation for more details:\n",
    "# https://scikit-learn.org/stable/modules/generated/sklearn.model_selection.GridSearchCV.html\n",
    "grid = GridSearchCV(estimator=lr, param_grid=param_grid, cv=10, scoring='recall', refit=True) # you can change scoring function that will impact the estimator\n",
    "grid = grid.fit(X_train, y_train)\n",
    "print('Best estimator: {}\\nWeights: {}, Intercept: {}\\nBest params: {}\\nScorer: {}'.format(grid.best_estimator_, grid.best_estimator_.coef_, grid.best_estimator_.intercept_,grid.best_params_, grid.scorer_))\n",
    "print('Available parameters for the estimator (fine-tuning): ',lr.get_params().keys())"
   ]
  },
  {
   "cell_type": "markdown",
   "metadata": {},
   "source": [
    "<h1>Evaluation</h1>"
   ]
  },
  {
   "cell_type": "code",
   "execution_count": 5,
   "metadata": {},
   "outputs": [
    {
     "name": "stdout",
     "output_type": "stream",
     "text": [
      "Training SET\n",
      "--------------------------------------\n",
      "Accuracy: 0.953, Precision: 0.853, Recall: 0.866, F1 Score: 0.859\n",
      "Confusion Matrix:\n",
      " [[327  10]\n",
      " [  9  58]]\n",
      "\n",
      "Testing SET\n",
      "--------------------------------------\n",
      "Accuracy: 0.961, Precision: 0.882, Recall: 0.882, F1 Score: 0.882\n",
      "Confusion Matrix:\n",
      " [[83  2]\n",
      " [ 2 15]]\n"
     ]
    }
   ],
   "source": [
    "# model evaluation for training set\n",
    "y_train_predict = grid.predict(X_train)\n",
    "print(\"Training SET\")\n",
    "print(\"--------------------------------------\")\n",
    "print('Accuracy: {:.3f}, Precision: {:.3f}, Recall: {:.3f}, F1 Score: {:.3f}'.format(accuracy_score(y_train, y_train_predict), precision_score(y_train, y_train_predict), recall_score(y_train, y_train_predict), f1_score(y_train, y_train_predict)))\n",
    "print(\"Confusion Matrix:\\n {}\".format(confusion_matrix(y_train, y_train_predict)))\n",
    "\n",
    "# model evaluation for testing set\n",
    "y_test_predict = grid.predict(X_test)\n",
    "\n",
    "print(\"\\nTesting SET\")\n",
    "print(\"--------------------------------------\")\n",
    "print('Accuracy: {:.3f}, Precision: {:.3f}, Recall: {:.3f}, F1 Score: {:.3f}'.format(accuracy_score(y_test, y_test_predict), precision_score(y_test, y_test_predict), recall_score(y_test, y_test_predict), f1_score(y_test, y_test_predict)))\n",
    "print(\"Confusion Matrix:\\n {}\".format(confusion_matrix(y_test, y_test_predict)))"
   ]
  },
  {
   "cell_type": "code",
   "execution_count": 6,
   "metadata": {},
   "outputs": [
    {
     "name": "stdout",
     "output_type": "stream",
     "text": [
      "ROC AUC (Training)=0.981\n",
      "ROC AUC (Testing)=0.982\n"
     ]
    },
    {
     "data": {
      "image/png": "[encoded data removed]",
      "text/plain": [
       "<Figure size 1080x360 with 2 Axes>"
      ]
     },
     "metadata": {
      "needs_background": "light"
     },
     "output_type": "display_data"
    }
   ],
   "source": [
    "from sklearn.metrics import roc_curve\n",
    "from sklearn.metrics import roc_auc_score\n",
    "\n",
    "# predict probabilities\n",
    "lr_probs_train = grid.predict_proba(X_train)\n",
    "lr_probs_test = grid.predict_proba(X_test)\n",
    "# keep probabilities for the positive outcome only\n",
    "lr_probs_train = lr_probs_train[:, 1]\n",
    "lr_probs_test = lr_probs_test[:, 1]\n",
    "\n",
    "print('ROC AUC (Training)={:.3f}'.format(roc_auc_score(y_train, lr_probs_train)))\n",
    "print('ROC AUC (Testing)={:.3f}'.format(roc_auc_score(y_test, lr_probs_test)))\n",
    "\n",
    "lr_fpr_train, lr_tpr_train, _ = roc_curve(y_train, lr_probs_train)\n",
    "lr_fpr_test, lr_tpr_test, _ = roc_curve(y_test, lr_probs_test)\n",
    "\n",
    "# plot the roc curve for the model\n",
    "_ = plt.figure(figsize=(15, 5))\n",
    "ax1 = plt.subplot(121)\n",
    "_ = ax1.plot(lr_fpr_train, lr_tpr_train, marker='x')\n",
    "_ = ax1.set_title('Receiver Operating Characteristics (ROC) - Training')\n",
    "_ = ax1.set_xlabel('False Positive Rate')\n",
    "_ = ax1.set_ylabel('True Positive Rate')\n",
    "\n",
    "ax2 = plt.subplot(122)\n",
    "_ = ax2.plot(lr_fpr_test, lr_tpr_test, marker='x')\n",
    "_ = ax2.set_title('Receiver Operating Characteristics (ROC) - Testing')\n",
    "_ = ax2.set_xlabel('False Positive Rate')\n",
    "_ = ax2.set_ylabel('True Positive Rate')"
   ]
  },
  {
   "cell_type": "markdown",
   "metadata": {},
   "source": [
    "<h1>Conclusion</h1>\n",
    "\n",
    "1. What do you feel about the model's performance looking at the various evaluation metrics?<br/>\n",
    "2. Which metric can be considered as the estimator's performance indicator (accuracy/recall/precision/f1)?<br/>\n",
    "2. Do change the 'scoring' metric of GridSearchCV to observe the changes in evaluaton metrics.<br/>\n",
    "4. You should try to optimise the hyper-parameters of any ML algorithm for a given use-case - one simple example is provided here. EDA can provide valuable insights in terms of ideas of which hyper-parameters can be important."
   ]
  }
 ],
 "metadata": {
  "kernelspec": {
   "display_name": "Python 3",
   "language": "python",
   "name": "python3"
  },
  "language_info": {
   "codemirror_mode": {
    "name": "ipython",
    "version": 3
   },
   "file_extension": ".py",
   "mimetype": "text/x-python",
   "name": "python",
   "nbconvert_exporter": "python",
   "pygments_lexer": "ipython3",
   "version": "3.7.7"
  }
 },
 "nbformat": 4,
 "nbformat_minor": 4
}
