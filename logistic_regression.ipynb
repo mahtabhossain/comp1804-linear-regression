{
 "cells": [
  {
   "cell_type": "markdown",
   "metadata": {},
   "source": [
    "<h1>Logistic Regression</h1>\n",
    "In this notebook, we will apply logistic regression (despite having regression in its name, it is referred to as a classification algorithm mainly) on the same boston house dataset. The original dataset was for regression task, we will convert it into a <strong>binary classification</strong> task [hypothetical].\n",
    "\n",
    "1. We will look at hyper-parameter tuning during modelling.\n",
    "2. The evaluation metrics (also loss functions) related to classification task, and their importance in gauging the model's performance."
   ]
  },
  {
   "cell_type": "code",
   "execution_count": 1,
   "metadata": {},
   "outputs": [],
   "source": [
    "import numpy as np\n",
    "import pandas as pd\n",
    "import matplotlib.pyplot as plt\n",
    "from sklearn.datasets import load_boston"
   ]
  },
  {
   "cell_type": "code",
   "execution_count": 2,
   "metadata": {},
   "outputs": [
    {
     "data": {
      "text/html": [
       "<div>\n",
       "<style scoped>\n",
       "    .dataframe tbody tr th:only-of-type {\n",
       "        vertical-align: middle;\n",
       "    }\n",
       "\n",
       "    .dataframe tbody tr th {\n",
       "        vertical-align: top;\n",
       "    }\n",
       "\n",
       "    .dataframe thead th {\n",
       "        text-align: right;\n",
       "    }\n",
       "</style>\n",
       "<table border=\"1\" class=\"dataframe\">\n",
       "  <thead>\n",
       "    <tr style=\"text-align: right;\">\n",
       "      <th></th>\n",
       "      <th>CRIM</th>\n",
       "      <th>ZN</th>\n",
       "      <th>INDUS</th>\n",
       "      <th>CHAS</th>\n",
       "      <th>NOX</th>\n",
       "      <th>RM</th>\n",
       "      <th>AGE</th>\n",
       "      <th>DIS</th>\n",
       "      <th>RAD</th>\n",
       "      <th>TAX</th>\n",
       "      <th>PTRATIO</th>\n",
       "      <th>B</th>\n",
       "      <th>LSTAT</th>\n",
       "      <th>EXPENSIVE</th>\n",
       "    </tr>\n",
       "  </thead>\n",
       "  <tbody>\n",
       "    <tr>\n",
       "      <th>0</th>\n",
       "      <td>0.00632</td>\n",
       "      <td>18.0</td>\n",
       "      <td>2.31</td>\n",
       "      <td>0.0</td>\n",
       "      <td>0.538</td>\n",
       "      <td>6.575</td>\n",
       "      <td>65.2</td>\n",
       "      <td>4.0900</td>\n",
       "      <td>1.0</td>\n",
       "      <td>296.0</td>\n",
       "      <td>15.3</td>\n",
       "      <td>396.90</td>\n",
       "      <td>4.98</td>\n",
       "      <td>NO</td>\n",
       "    </tr>\n",
       "    <tr>\n",
       "      <th>1</th>\n",
       "      <td>0.02731</td>\n",
       "      <td>0.0</td>\n",
       "      <td>7.07</td>\n",
       "      <td>0.0</td>\n",
       "      <td>0.469</td>\n",
       "      <td>6.421</td>\n",
       "      <td>78.9</td>\n",
       "      <td>4.9671</td>\n",
       "      <td>2.0</td>\n",
       "      <td>242.0</td>\n",
       "      <td>17.8</td>\n",
       "      <td>396.90</td>\n",
       "      <td>9.14</td>\n",
       "      <td>NO</td>\n",
       "    </tr>\n",
       "    <tr>\n",
       "      <th>2</th>\n",
       "      <td>0.02729</td>\n",
       "      <td>0.0</td>\n",
       "      <td>7.07</td>\n",
       "      <td>0.0</td>\n",
       "      <td>0.469</td>\n",
       "      <td>7.185</td>\n",
       "      <td>61.1</td>\n",
       "      <td>4.9671</td>\n",
       "      <td>2.0</td>\n",
       "      <td>242.0</td>\n",
       "      <td>17.8</td>\n",
       "      <td>392.83</td>\n",
       "      <td>4.03</td>\n",
       "      <td>YES</td>\n",
       "    </tr>\n",
       "    <tr>\n",
       "      <th>3</th>\n",
       "      <td>0.03237</td>\n",
       "      <td>0.0</td>\n",
       "      <td>2.18</td>\n",
       "      <td>0.0</td>\n",
       "      <td>0.458</td>\n",
       "      <td>6.998</td>\n",
       "      <td>45.8</td>\n",
       "      <td>6.0622</td>\n",
       "      <td>3.0</td>\n",
       "      <td>222.0</td>\n",
       "      <td>18.7</td>\n",
       "      <td>394.63</td>\n",
       "      <td>2.94</td>\n",
       "      <td>YES</td>\n",
       "    </tr>\n",
       "    <tr>\n",
       "      <th>4</th>\n",
       "      <td>0.06905</td>\n",
       "      <td>0.0</td>\n",
       "      <td>2.18</td>\n",
       "      <td>0.0</td>\n",
       "      <td>0.458</td>\n",
       "      <td>7.147</td>\n",
       "      <td>54.2</td>\n",
       "      <td>6.0622</td>\n",
       "      <td>3.0</td>\n",
       "      <td>222.0</td>\n",
       "      <td>18.7</td>\n",
       "      <td>396.90</td>\n",
       "      <td>5.33</td>\n",
       "      <td>YES</td>\n",
       "    </tr>\n",
       "  </tbody>\n",
       "</table>\n",
       "</div>"
      ],
      "text/plain": [
       "      CRIM    ZN  INDUS  CHAS    NOX     RM   AGE     DIS  RAD    TAX  \\\n",
       "0  0.00632  18.0   2.31   0.0  0.538  6.575  65.2  4.0900  1.0  296.0   \n",
       "1  0.02731   0.0   7.07   0.0  0.469  6.421  78.9  4.9671  2.0  242.0   \n",
       "2  0.02729   0.0   7.07   0.0  0.469  7.185  61.1  4.9671  2.0  242.0   \n",
       "3  0.03237   0.0   2.18   0.0  0.458  6.998  45.8  6.0622  3.0  222.0   \n",
       "4  0.06905   0.0   2.18   0.0  0.458  7.147  54.2  6.0622  3.0  222.0   \n",
       "\n",
       "   PTRATIO       B  LSTAT EXPENSIVE  \n",
       "0     15.3  396.90   4.98        NO  \n",
       "1     17.8  396.90   9.14        NO  \n",
       "2     17.8  392.83   4.03       YES  \n",
       "3     18.7  394.63   2.94       YES  \n",
       "4     18.7  396.90   5.33       YES  "
      ]
     },
     "execution_count": 2,
     "metadata": {},
     "output_type": "execute_result"
    }
   ],
   "source": [
    "# using boston house price dataset: this is available from sklearn library\n",
    "boston = load_boston()\n",
    "df = pd.DataFrame(data=boston.data, columns=boston.feature_names)\n",
    "# changing the target: to convert it into a hypothetical classification algorithm\n",
    "# say, if the PRICE > $300,000 then the house is considered expensive\n",
    "# our classification task is to check if a house will be expensive/not by just looking at the features.\n",
    "df['EXPENSIVE'] = boston['target']\n",
    "df['EXPENSIVE'] = df['EXPENSIVE'].apply(lambda x: 'YES' if x>30 else 'NO')\n",
    "df.head()"
   ]
  },
  {
   "cell_type": "markdown",
   "metadata": {},
   "source": [
    "<h1>Initial Data Analysis and Explanatory Data Analysis</h1>\n",
    "Similar analysis holds as the <a href='linear_regression_2.ipynb'>previous notebook</a>, and the findings apply here too. We are omitting that part in this notebook but remember this is quite an important step for any ML task. Additionally, in this task, the class balance/imbalance of the target variable should also be checked."
   ]
  },
  {
   "cell_type": "code",
   "execution_count": 3,
   "metadata": {},
   "outputs": [
    {
     "name": "stdout",
     "output_type": "stream",
     "text": [
      "Proportion of YES: 16.601%, Proportion of NO: 83.399%\n"
     ]
    },
    {
     "data": {
      "text/plain": [
       "count     506\n",
       "unique      2\n",
       "top        NO\n",
       "freq      422\n",
       "Name: EXPENSIVE, dtype: object"
      ]
     },
     "execution_count": 3,
     "metadata": {},
     "output_type": "execute_result"
    }
   ],
   "source": [
    "print('Proportion of YES: {:.3f}%, Proportion of NO: {:.3f}%'.format(df[df['EXPENSIVE']=='YES']['EXPENSIVE'].count()*100/df.shape[0], df[df['EXPENSIVE']=='NO']['EXPENSIVE'].count()*100/df.shape[0]))\n",
    "df['EXPENSIVE'].describe()"
   ]
  },
  {
   "cell_type": "markdown",
   "metadata": {},
   "source": [
    "<h1>Tasks</h1>\n",
    "\n",
    "In a typical ML task, you actually should reflect here because of the class imbalance - 'Not Expensive' houses dominate the dataset. In an ideal dataset, you should generally  have equal proportion of 'YES' and 'NO' for a binary classification task. If not, you should at least try to resolve it [generating more samples, undersamplling the major class, oversampling the minor class, synthetically create more samples etc.] - all these without comprising the 'validity' of the data, i.e., throwing away important information [undersampling], introducing 'false information' inside the dataset [the way you introduced more samples, etc.]. This is quite an important part, and after completing this notebook, you should try to come back to this step, and may try to resolve this issue and evaluate the model's performance again.\n",
    "\n",
    "For example, without any training, if an estimator just predicts the house as 'NOT EXPENSIVE' for any input, then the model's accuracy will be 83.399% for this dataset!!! Without resolving this imbalance, it is likely that the trained classifier may be inclined towards predicting the house to be 'NOT EXPENSIVE' too since this imbalance will impact its learning.\n",
    "\n",
    "We will proceed with our <strong>binary classification task</strong> anyway without resolving this."
   ]
  },
  {
   "cell_type": "markdown",
   "metadata": {},
   "source": [
    "<h1>Modelling (with hyper-parameter tuning)</h1>"
   ]
  },
  {
   "cell_type": "code",
   "execution_count": 4,
   "metadata": {},
   "outputs": [
    {
     "name": "stdout",
     "output_type": "stream",
     "text": [
      "Best estimator: LogisticRegression()\n",
      "Weights: [[ 0.14513444  0.39202927 -0.97854289  0.1618424   0.02479979  1.47605734\n",
      "   0.35606539 -0.67879687  0.95373518 -0.49196683 -0.73602807  0.1204218\n",
      "  -2.43396895]], Intercept: [-4.37431992]\n",
      "Best params: {'C': 1.0}\n",
      "Scorer: make_scorer(recall_score, average=binary)\n",
      "Available parameters for the estimator (fine-tuning):  dict_keys(['C', 'class_weight', 'dual', 'fit_intercept', 'intercept_scaling', 'l1_ratio', 'max_iter', 'multi_class', 'n_jobs', 'penalty', 'random_state', 'solver', 'tol', 'verbose', 'warm_start'])\n"
     ]
    }
   ],
   "source": [
    "from sklearn.model_selection import train_test_split\n",
    "from sklearn.linear_model import LogisticRegression\n",
    "from sklearn.preprocessing import StandardScaler\n",
    "from sklearn.metrics import confusion_matrix, accuracy_score, recall_score, precision_score, f1_score\n",
    "from sklearn.model_selection import GridSearchCV\n",
    "\n",
    "import warnings\n",
    "warnings.simplefilter(\"ignore\") # for GridSearchCV: some of its combination throws warning which is fine (they are not appropriate combination)\n",
    "\n",
    "# dropping the EXPENSIVE column [target variable]\n",
    "X = df.drop(['EXPENSIVE'], axis = 1)\n",
    "#X = df[['RM']] # use/uncomment this line if you want to use a single feature!!!\n",
    "y = df['EXPENSIVE'].apply(lambda x: 0 if x=='NO' else 1) # convering the categorical target into numeric: EXPENSIVE = 1, NOT EXPENSIVE = 0\n",
    "\n",
    "# standardisation of the features: extremely important so that the effect of 'magnitude difference' between features do not affect the optimisation of weights are not given more importance\n",
    "sc = StandardScaler()\n",
    "X = sc.fit_transform(X)\n",
    "\n",
    "# separating of training and testing set: 80-20 separation\n",
    "# random_state parameter is given to keep the same randomised splitting: important when you are creating the model\n",
    "# and want to keep a specific separation across multiple runs. Once modelling/evaluation is completed, you can actually\n",
    "# remove this parameter to generate random splitting in each run of this notebook\n",
    "# for classification, stratification on y [target] is important so that equal proportion of classes exist in both training/testing\n",
    "X_train, X_test, y_train, y_test = train_test_split(X, y, test_size=0.2, stratify=y, random_state=42)\n",
    "\n",
    "# hyper-parameter tuning using in-built GridSearchCV\n",
    "# pipeline is used to standardisation and also creating the normal instance of a LogisticRegression\n",
    "# This may take a while: good to set the max_iter parameter as well...\n",
    "param_grid=[{'C': np.logspace(-4,4,15)},\n",
    "           {'penalty': ['l1', 'l2']},\n",
    "           {'solver': ['lbfgs', 'liblinear', 'adam']},\n",
    "          {'max_iter': [10000]}]\n",
    "\n",
    "lr = LogisticRegression()\n",
    "\n",
    "# refer to sklearn documentation for more details:\n",
    "# https://scikit-learn.org/stable/modules/generated/sklearn.model_selection.GridSearchCV.html\n",
    "grid = GridSearchCV(estimator=lr, param_grid=param_grid, cv=10, scoring='recall', refit=True) # you can change scoring function that will impact the estimator\n",
    "grid = grid.fit(X_train, y_train)\n",
    "print('Best estimator: {}\\nWeights: {}, Intercept: {}\\nBest params: {}\\nScorer: {}'.format(grid.best_estimator_, grid.best_estimator_.coef_, grid.best_estimator_.intercept_,grid.best_params_, grid.scorer_))\n",
    "print('Available parameters for the estimator (fine-tuning): ',lr.get_params().keys())"
   ]
  },
  {
   "cell_type": "markdown",
   "metadata": {},
   "source": [
    "<h1>Evaluation</h1>"
   ]
  },
  {
   "cell_type": "code",
   "execution_count": 5,
   "metadata": {},
   "outputs": [
    {
     "name": "stdout",
     "output_type": "stream",
     "text": [
      "Training SET\n",
      "--------------------------------------\n",
      "Accuracy: 0.953, Precision: 0.853, Recall: 0.866, F1 Score: 0.859\n",
      "Confusion Matrix:\n",
      " [[327  10]\n",
      " [  9  58]]\n",
      "\n",
      "Testing SET\n",
      "--------------------------------------\n",
      "Accuracy: 0.961, Precision: 0.882, Recall: 0.882, F1 Score: 0.882\n",
      "Confusion Matrix:\n",
      " [[83  2]\n",
      " [ 2 15]]\n"
     ]
    }
   ],
   "source": [
    "# model evaluation for training set\n",
    "y_train_predict = grid.predict(X_train)\n",
    "print(\"Training SET\")\n",
    "print(\"--------------------------------------\")\n",
    "print('Accuracy: {:.3f}, Precision: {:.3f}, Recall: {:.3f}, F1 Score: {:.3f}'.format(accuracy_score(y_train, y_train_predict), precision_score(y_train, y_train_predict), recall_score(y_train, y_train_predict), f1_score(y_train, y_train_predict)))\n",
    "print(\"Confusion Matrix:\\n {}\".format(confusion_matrix(y_train, y_train_predict)))\n",
    "\n",
    "# model evaluation for testing set\n",
    "y_test_predict = grid.predict(X_test)\n",
    "\n",
    "print(\"\\nTesting SET\")\n",
    "print(\"--------------------------------------\")\n",
    "print('Accuracy: {:.3f}, Precision: {:.3f}, Recall: {:.3f}, F1 Score: {:.3f}'.format(accuracy_score(y_test, y_test_predict), precision_score(y_test, y_test_predict), recall_score(y_test, y_test_predict), f1_score(y_test, y_test_predict)))\n",
    "print(\"Confusion Matrix:\\n {}\".format(confusion_matrix(y_test, y_test_predict)))"
   ]
  },
  {
   "cell_type": "code",
   "execution_count": 6,
   "metadata": {},
   "outputs": [
    {
     "name": "stdout",
     "output_type": "stream",
     "text": [
      "ROC AUC (Training)=0.981\n",
      "ROC AUC (Testing)=0.982\n"
     ]
    },
    {
     "data": {
      "image/png": "[encoded data removed]",
      "text/plain": [
       "<Figure size 1080x360 with 2 Axes>"
      ]
     },
     "metadata": {
      "needs_background": "light"
     },
     "output_type": "display_data"
    }
   ],
   "source": [
    "from sklearn.metrics import roc_curve\n",
    "from sklearn.metrics import roc_auc_score\n",
    "\n",
    "# predict probabilities\n",
    "lr_probs_train = grid.predict_proba(X_train)\n",
    "lr_probs_test = grid.predict_proba(X_test)\n",
    "# keep probabilities for the positive outcome only\n",
    "lr_probs_train = lr_probs_train[:, 1]\n",
    "lr_probs_test = lr_probs_test[:, 1]\n",
    "\n",
    "print('ROC AUC (Training)={:.3f}'.format(roc_auc_score(y_train, lr_probs_train)))\n",
    "print('ROC AUC (Testing)={:.3f}'.format(roc_auc_score(y_test, lr_probs_test)))\n",
    "\n",
    "lr_fpr_train, lr_tpr_train, _ = roc_curve(y_train, lr_probs_train)\n",
    "lr_fpr_test, lr_tpr_test, _ = roc_curve(y_test, lr_probs_test)\n",
    "\n",
    "# plot the roc curve for the model\n",
    "_ = plt.figure(figsize=(15, 5))\n",
    "ax1 =plt.subplot(121)\n",
    "_ = ax1.plot(lr_fpr_train, lr_tpr_train, marker='x')\n",
    "_ = ax1.plot([0,1], [0, 1], 'gray', linestyle=':', marker='')\n",
    "_ = ax1.set_title('Receiver Operating Characteristics (ROC) - Training')\n",
    "_ = ax1.set_xlabel('False Positive Rate')\n",
    "_ = ax1.set_ylabel('True Positive Rate')\n",
    "\n",
    "ax2 = plt.subplot(122)\n",
    "_ = ax2.plot(lr_fpr_test, lr_tpr_test, marker='x')\n",
    "_ = ax2.plot([0,1], [0, 1], 'gray', linestyle=':', marker='')\n",
    "_ = ax2.set_title('Receiver Operating Characteristics (ROC) - Testing')\n",
    "_ = ax2.set_xlabel('False Positive Rate')\n",
    "_ = ax2.set_ylabel('True Positive Rate')"
   ]
  },
  {
   "cell_type": "markdown",
   "metadata": {},
   "source": [
    "<h3>Inference Probabilities</h3>"
   ]
  },
  {
   "cell_type": "code",
   "execution_count": 7,
   "metadata": {},
   "outputs": [
    {
     "data": {
      "text/html": [
       "<div>\n",
       "<style scoped>\n",
       "    .dataframe tbody tr th:only-of-type {\n",
       "        vertical-align: middle;\n",
       "    }\n",
       "\n",
       "    .dataframe tbody tr th {\n",
       "        vertical-align: top;\n",
       "    }\n",
       "\n",
       "    .dataframe thead th {\n",
       "        text-align: right;\n",
       "    }\n",
       "</style>\n",
       "<table border=\"1\" class=\"dataframe\">\n",
       "  <thead>\n",
       "    <tr style=\"text-align: right;\">\n",
       "      <th></th>\n",
       "      <th>EXPENSIVE</th>\n",
       "      <th>PREDICTED PROBABILITY OF BEING EXPENSIVE</th>\n",
       "    </tr>\n",
       "  </thead>\n",
       "  <tbody>\n",
       "    <tr>\n",
       "      <th>10</th>\n",
       "      <td>YES</td>\n",
       "      <td>0.542816</td>\n",
       "    </tr>\n",
       "    <tr>\n",
       "      <th>11</th>\n",
       "      <td>NO</td>\n",
       "      <td>0.173117</td>\n",
       "    </tr>\n",
       "    <tr>\n",
       "      <th>12</th>\n",
       "      <td>NO</td>\n",
       "      <td>0.003434</td>\n",
       "    </tr>\n",
       "    <tr>\n",
       "      <th>13</th>\n",
       "      <td>NO</td>\n",
       "      <td>0.000922</td>\n",
       "    </tr>\n",
       "    <tr>\n",
       "      <th>14</th>\n",
       "      <td>NO</td>\n",
       "      <td>0.000968</td>\n",
       "    </tr>\n",
       "    <tr>\n",
       "      <th>15</th>\n",
       "      <td>NO</td>\n",
       "      <td>0.254443</td>\n",
       "    </tr>\n",
       "    <tr>\n",
       "      <th>16</th>\n",
       "      <td>YES</td>\n",
       "      <td>0.802174</td>\n",
       "    </tr>\n",
       "    <tr>\n",
       "      <th>17</th>\n",
       "      <td>NO</td>\n",
       "      <td>0.000014</td>\n",
       "    </tr>\n",
       "    <tr>\n",
       "      <th>18</th>\n",
       "      <td>NO</td>\n",
       "      <td>0.000225</td>\n",
       "    </tr>\n",
       "    <tr>\n",
       "      <th>19</th>\n",
       "      <td>NO</td>\n",
       "      <td>0.011674</td>\n",
       "    </tr>\n",
       "  </tbody>\n",
       "</table>\n",
       "</div>"
      ],
      "text/plain": [
       "   EXPENSIVE  PREDICTED PROBABILITY OF BEING EXPENSIVE\n",
       "10       YES                                  0.542816\n",
       "11        NO                                  0.173117\n",
       "12        NO                                  0.003434\n",
       "13        NO                                  0.000922\n",
       "14        NO                                  0.000968\n",
       "15        NO                                  0.254443\n",
       "16       YES                                  0.802174\n",
       "17        NO                                  0.000014\n",
       "18        NO                                  0.000225\n",
       "19        NO                                  0.011674"
      ]
     },
     "execution_count": 7,
     "metadata": {},
     "output_type": "execute_result"
    }
   ],
   "source": [
    "#print(lr_probs_test[0:20])\n",
    "#here, we create a pandas dataframe to demonstrate the computed probabilities for a house of being expensive in order to relate it to the lecture notes\n",
    "#remember, logistic regression's regressed part is on these probabilities!\n",
    "expensive = {1: 'YES', 0:'NO'} # just to revert back y_test's 0,1 numeric to YES/NO categorical values for display\n",
    "pb_df = pd.DataFrame({'EXPENSIVE':[expensive[numeric_cat] for numeric_cat in y_test[0:]], 'PREDICTED PROBABILITY OF BEING EXPENSIVE':lr_probs_test[0:]}, columns=['EXPENSIVE', 'PREDICTED PROBABILITY OF BEING EXPENSIVE'])\n",
    "pb_df.iloc[10:20].head(10)"
   ]
  },
  {
   "cell_type": "code",
   "execution_count": 8,
   "metadata": {},
   "outputs": [
    {
     "name": "stdout",
     "output_type": "stream",
     "text": [
      "For record X_test[10], our manually computed probability: 0.5428158532370662, sklearn's returned probability: 0.5428158532370662\n",
      "The two false positives are below: \n"
     ]
    },
    {
     "data": {
      "text/html": [
       "<div>\n",
       "<style scoped>\n",
       "    .dataframe tbody tr th:only-of-type {\n",
       "        vertical-align: middle;\n",
       "    }\n",
       "\n",
       "    .dataframe tbody tr th {\n",
       "        vertical-align: top;\n",
       "    }\n",
       "\n",
       "    .dataframe thead th {\n",
       "        text-align: right;\n",
       "    }\n",
       "</style>\n",
       "<table border=\"1\" class=\"dataframe\">\n",
       "  <thead>\n",
       "    <tr style=\"text-align: right;\">\n",
       "      <th></th>\n",
       "      <th>EXPENSIVE</th>\n",
       "      <th>PREDICTED PROBABILITY OF BEING EXPENSIVE</th>\n",
       "    </tr>\n",
       "  </thead>\n",
       "  <tbody>\n",
       "    <tr>\n",
       "      <th>47</th>\n",
       "      <td>NO</td>\n",
       "      <td>0.640202</td>\n",
       "    </tr>\n",
       "    <tr>\n",
       "      <th>58</th>\n",
       "      <td>NO</td>\n",
       "      <td>0.509722</td>\n",
       "    </tr>\n",
       "  </tbody>\n",
       "</table>\n",
       "</div>"
      ],
      "text/plain": [
       "   EXPENSIVE  PREDICTED PROBABILITY OF BEING EXPENSIVE\n",
       "47        NO                                  0.640202\n",
       "58        NO                                  0.509722"
      ]
     },
     "execution_count": 8,
     "metadata": {},
     "output_type": "execute_result"
    }
   ],
   "source": [
    "# we will break down the computation of the first probability here [0.542816] corresponding to the testing record X_test[10:11]\n",
    "# and relate it to the different elements of the logistic regression algorithm [refer to Slide 4 of the lecture notes - especially the diagram]\n",
    "\n",
    "# we already know the optimum weights, w_i [model parameters] after training, they are stored as grid.best_estimator_.coef_ [since we have used Grid Search]\n",
    "# depending on how you train them [with or without grid search], and the name of the variables, this may vary......\n",
    "# grid.best_estimator_.intercept_ will hold the w_0\n",
    "\n",
    "# compute: net input (z): refer to Slide 4 of lecture notes [it is just the weighted sum, z = \\sum_{j=1}^m w_j.x_j + w_0]\n",
    "z = np.dot(X_test[10:11].tolist()[0], grid.best_estimator_.coef_[0])+grid.best_estimator_.intercept_[0]\n",
    "\n",
    "# compute: sigma(z): the probability / activation function output - again refer to Slide 4 of lecture notes....\n",
    "sigma_z = 1 / (1+ np.exp(-z))\n",
    "print(\"For record X_test[10], our manually computed probability: {}, sklearn's returned probability: {}\".format(sigma_z, grid.predict_proba(X_test[10:11])[:,1][0]))\n",
    "\n",
    "# you may also want to look at the False Positive records predicted probabilities [e.g., NO in actual Expensive column but probability of prediction will be >= 0.5]\n",
    "# we already know there will be two False Positives for the testing set [from the confusion matrix above]\n",
    "print('The two false positives are below: ')\n",
    "pb_df[(pb_df['EXPENSIVE'] == 'NO') & (pb_df['PREDICTED PROBABILITY OF BEING EXPENSIVE'] >= 0.5)]\n",
    "# you can trace back to the X_test to check the features [standardised] - you may need to 'de'-standardise to check the actual feature values\n",
    "# also, do the same for false negatives - from confusion matrix, you know there will be two"
   ]
  },
  {
   "cell_type": "code",
   "execution_count": 9,
   "metadata": {},
   "outputs": [
    {
     "name": "stdout",
     "output_type": "stream",
     "text": [
      "The increase in odds by increasing 1-unit of average number of rooms (predictor RM) should be: 8.18971\n",
      "The computed gain using the probabilities: 8.18971\n",
      "Means we gain more than 8 times odds of  being an Expensive house by just increasing 1-unit of average number of rooms (RM feature)\n",
      "Similar analysis can be performed regarding other features as well.\n"
     ]
    }
   ],
   "source": [
    "# computing odds (in many books/articles, you may find it to be 'logit' function)\n",
    "# if P(Y==1|X) can be denoted as 'p', then odds (logit) = p / (1-p)\n",
    "# it has similar interpretation as 'Linear Regression', for example, in lecture slides we have seen by how much 1-unit (1£) of Bills (X) may increase/decrease the Tips (y)\n",
    "# however, this was more straight-forward in 'Linear Regression' since the relationship between 'predictor' (X) and the response variable (y) was regressed with linear activation function.\n",
    "\n",
    "# In logistic regression, we used non-linear activation function - so this relationship between 'predictor' (X) and response variable (y) are not linear.\n",
    "# we try to find how much 1-unit increase (e.g., say RM - average number of rooms predictor variable) will increase/decrease the odds - this will be the following:\n",
    "# exp(weight associated with RM) - RM is the 5th index inside the weight coef_\n",
    "# you can find one detailed explanation here: https://stats.stackexchange.com/questions/29325/what-is-the-difference-between-linear-regression-and-logistic-regression\n",
    "# the computed weights are for standardised features - needs to be scaled by std (standard deviation)\n",
    "print('The increase in odds by increasing 1-unit of average number of rooms (predictor RM) should be: {:.5f}'.format(np.exp((grid.best_estimator_.coef_[0][5]/np.sqrt(sc.var_[5])))))\n",
    "# we can actually verify it by taking one record, and computing p/(1-p) using the model for both original RM and new (RM+1)  \n",
    "orig_prob = grid.predict_proba(X_test[10].reshape(1, -1))  # if it is a single record, requires reshaping\n",
    "# the features were standardised by (x - u) / s by StandardScaler() - documentation here: https://scikit-learn.org/stable/modules/generated/sklearn.preprocessing.StandardScaler.html\n",
    "# increasing x by 1 will mean increasing standardised feature by 1/s\n",
    "X_test[10][5] = X_test[10][5] + (1/np.sqrt(sc.var_[5]))\n",
    "new_prob = grid.predict_proba(X_test[10].reshape(1, -1))\n",
    "print('The computed gain using the probabilities: {:.5f}'.format((new_prob[0, 1]/new_prob[0, 0])/(orig_prob[0, 1]/orig_prob[0, 0])))\n",
    "print('Means we gain more than 8 times odds of  being an Expensive house by just increasing 1-unit of average number of rooms (RM feature)\\nSimilar analysis can be performed regarding other features as well.')"
   ]
  },
  {
   "cell_type": "markdown",
   "metadata": {},
   "source": [
    "### Reflection\n",
    "We should have some ideas by now that the learnt parameters are nothing but the model parameters [weights] which were computed using an optimisation algorithm [solver]\n",
    "on a loss function [the loss function preferrably should be convex to ENSURE reaching globally optimum weights]. We discussed one solver in lecture notes: Gradient Descent.\n",
    "If the loss function is not convex, the ML algorithm can converge to a local optimum. But remember, it may not be always possible to find convex loss function for all the ML algorithms. Some 'solvers' try to take this into consideration, and still try to find the best possible weights! In the lecture slides, you were asked to research on the various solvers that are available as 'options' in scikit-learn library."
   ]
  },
  {
   "cell_type": "markdown",
   "metadata": {},
   "source": [
    "<h1>Conclusion</h1>\n",
    "\n",
    "1. What do you feel about the model's performance looking at the various evaluation metrics?<br/>\n",
    "2. Which metric can be considered as the estimator's performance indicator (accuracy/recall/precision/f1/ROC)?<br/>\n",
    "2. Do change the 'scoring' metric of GridSearchCV to observe the changes in evaluaton metrics.<br/>\n",
    "4. You should try to optimise the hyper-parameters of any ML algorithm for a given use-case - one simple example is provided here. EDA can provide valuable insights in terms of ideas of which hyper-parameters can be important.\n",
    "5. What do you feel about the feature RM's importance in predicting the house prices looking at the interpretation inside 'Inference Probabilties' section?"
   ]
  }
 ],
 "metadata": {
  "kernelspec": {
   "display_name": "Python 3",
   "language": "python",
   "name": "python3"
  },
  "language_info": {
   "codemirror_mode": {
    "name": "ipython",
    "version": 3
   },
   "file_extension": ".py",
   "mimetype": "text/x-python",
   "name": "python",
   "nbconvert_exporter": "python",
   "pygments_lexer": "ipython3",
   "version": "3.7.7"
  }
 },
 "nbformat": 4,
 "nbformat_minor": 4
}
